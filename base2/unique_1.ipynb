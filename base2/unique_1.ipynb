{
 "cells": [
  {
   "cell_type": "code",
   "execution_count": 1,
   "metadata": {},
   "outputs": [
    {
     "name": "stdout",
     "output_type": "stream",
     "text": [
      "[9, 0, 1, 2, 3, 4, 5, 6, 45, 67, 77, 8]\n"
     ]
    }
   ],
   "source": [
    "list1 = [9, 0, 1, 2, 3, 3, 4, 5, 6, 45, 67, 77, 6, 45, 8]\n",
    "list1_unique = list(set(list1))\n",
    "list1_unique.sort(key=list1.index)\n",
    "print(list1_unique)"
   ]
  },
  {
   "cell_type": "code",
   "execution_count": 2,
   "metadata": {},
   "outputs": [
    {
     "name": "stdout",
     "output_type": "stream",
     "text": [
      "['a', 'b', 'c', 'd', '1', '2', '3', '4', 'u', 'i', 'o', 'p', 'l']\n"
     ]
    }
   ],
   "source": [
    "s = 'abcdabcd1234uiopppl'\n",
    "ss = list(set(s))\n",
    "ss.sort(key=s.index)\n",
    "print(ss)"
   ]
  },
  {
   "cell_type": "code",
   "execution_count": 3,
   "metadata": {},
   "outputs": [
    {
     "name": "stdout",
     "output_type": "stream",
     "text": [
      "abcd1234uiopl\n"
     ]
    }
   ],
   "source": [
    "print(''.join(ss))"
   ]
  },
  {
   "cell_type": "code",
   "execution_count": 26,
   "metadata": {},
   "outputs": [
    {
     "name": "stdout",
     "output_type": "stream",
     "text": [
      "<class 'filter'>\n",
      "['AA', 'BB', 'EE', 'DD', 'A(B,C)', 'CC']\n"
     ]
    }
   ],
   "source": [
    "import re\n",
    "str1 = 'AA, BB, EE, DD, AA, A(B,C), CC, A(B,C)'\n",
    "L = filter(None, re.split(r', | ', str1))\n",
    "print(type(L))\n",
    "# print(list(L))\n",
    "list1 = list(set(L))\n",
    "list1.sort(key=str1.index)\n",
    "print(list1)\n",
    "# print(list(set(L)))\n",
    "# print([x for x in L if L.count(x) == 1])"
   ]
  },
  {
   "cell_type": "code",
   "execution_count": 27,
   "metadata": {},
   "outputs": [
    {
     "name": "stdout",
     "output_type": "stream",
     "text": [
      "['__class__', '__delattr__', '__dir__', '__doc__', '__eq__', '__format__', '__ge__', '__getattribute__', '__gt__', '__hash__', '__init__', '__init_subclass__', '__iter__', '__le__', '__lt__', '__ne__', '__new__', '__next__', '__reduce__', '__reduce_ex__', '__repr__', '__setattr__', '__sizeof__', '__str__', '__subclasshook__']\n",
      "\n",
      "['__getattribute__', '__iter__', '__next__', '__new__', '__reduce__', '__doc__', '__repr__', '__hash__', '__str__', '__setattr__', '__delattr__', '__lt__', '__le__', '__eq__', '__ne__', '__gt__', '__ge__', '__init__', '__reduce_ex__', '__subclasshook__', '__init_subclass__', '__format__', '__sizeof__', '__dir__', '__class__']\n"
     ]
    }
   ],
   "source": [
    "print(dir(L))\n",
    "print()\n",
    "print(L.__dir__())"
   ]
  },
  {
   "cell_type": "code",
   "execution_count": 29,
   "metadata": {},
   "outputs": [
    {
     "name": "stdout",
     "output_type": "stream",
     "text": [
      "[56, 7, 4, 23, 9, 0, 12, 3, 34, 45, 5, 6]\n"
     ]
    }
   ],
   "source": [
    "# 使用字典方式去重\n",
    "def func1(one_list):\n",
    "    return list({}.fromkeys(one_list).keys())\n",
    "\n",
    "one_list=[56,7,4,23,56,9,0,56,12,3,56,34,45,5,6,56]\n",
    "print(func1(one_list))"
   ]
  },
  {
   "cell_type": "code",
   "execution_count": 30,
   "metadata": {},
   "outputs": [
    {
     "name": "stdout",
     "output_type": "stream",
     "text": [
      "[56, 7, 4, 23, 9, 0, 12, 3, 34, 45, 5, 6]\n"
     ]
    }
   ],
   "source": [
    "# 使用列表推导方式去重\n",
    "def func2(one_list):\n",
    "    temp_list = []\n",
    "    for one in one_list:\n",
    "        if one not in temp_list:\n",
    "            temp_list.append(one)\n",
    "    return temp_list\n",
    "\n",
    "print(func2(one_list))"
   ]
  },
  {
   "cell_type": "code",
   "execution_count": 42,
   "metadata": {},
   "outputs": [
    {
     "name": "stdout",
     "output_type": "stream",
     "text": [
      "abc\n",
      "\n",
      "c\n"
     ]
    }
   ],
   "source": [
    "# 去除相邻的重复字符\n",
    "def RemoveAdjacentRepeatCharacters(a):\n",
    "    if(0 == len(a) or 1 == len(a)):\n",
    "        return a\n",
    "    \n",
    "    b = a[0]\n",
    "    for i in a[1:]:\n",
    "        # if (b == ''):\n",
    "            # b += i\n",
    "        if(i == b[len(b) - 1]):\n",
    "            pass\n",
    "        else:\n",
    "            b = b + i\n",
    "    return b\n",
    "\n",
    "print(RemoveAdjacentRepeatCharacters('aaabbbccc'))\n",
    "print(RemoveAdjacentRepeatCharacters(''))\n",
    "print(RemoveAdjacentRepeatCharacters('c'))"
   ]
  },
  {
   "cell_type": "code",
   "execution_count": 46,
   "metadata": {},
   "outputs": [
    {
     "name": "stdout",
     "output_type": "stream",
     "text": [
      "abc\n",
      "\n",
      "a\n",
      "abc\n"
     ]
    }
   ],
   "source": [
    "# 除重复字符\n",
    "def DistinctCharacter(a):\n",
    "    if (len(a) == 0 or 1 == len(a)):\n",
    "        return a\n",
    "    \n",
    "    b = a[0]\n",
    "    for i in a[1:]:\n",
    "        if b.__contains__(i):\n",
    "            pass\n",
    "        else:\n",
    "            b = b + i\n",
    "    return b\n",
    "\n",
    "print(DistinctCharacter('aaabbbccc'))\n",
    "print(DistinctCharacter(''))\n",
    "print(DistinctCharacter('a'))\n",
    "print(DistinctCharacter('abcabcabc'))"
   ]
  },
  {
   "cell_type": "code",
   "execution_count": null,
   "metadata": {},
   "outputs": [],
   "source": []
  }
 ],
 "metadata": {
  "kernelspec": {
   "display_name": "Python 3",
   "language": "python",
   "name": "python3"
  },
  "language_info": {
   "codemirror_mode": {
    "name": "ipython",
    "version": 3
   },
   "file_extension": ".py",
   "mimetype": "text/x-python",
   "name": "python",
   "nbconvert_exporter": "python",
   "pygments_lexer": "ipython3",
   "version": "3.6.4"
  }
 },
 "nbformat": 4,
 "nbformat_minor": 2
}
