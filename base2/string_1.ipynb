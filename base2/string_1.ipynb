{
 "cells": [
  {
   "cell_type": "code",
   "execution_count": 5,
   "metadata": {},
   "outputs": [
    {
     "name": "stdout",
     "output_type": "stream",
     "text": [
      "abcdefghijklmnopqrstuvwxyz\n",
      "ABCDEFGHIJKLMNOPQRSTUVWXYZ\n",
      "abcdefghijklmnopqrstuvwxyzABCDEFGHIJKLMNOPQRSTUVWXYZ\n",
      "0123456789\n",
      "0123456789abcdefABCDEF\n",
      "01234567\n",
      "!\"#$%&'()*+,-./:;<=>?@[\\]^_`{|}~\n",
      " \t\n",
      "\r",
      "\u000b",
      "\f",
      "\n"
     ]
    }
   ],
   "source": [
    "import string\n",
    "# 小写字母常量\n",
    "print(string.ascii_lowercase)\n",
    "# 大写字母常量\n",
    "print(string.ascii_uppercase)\n",
    "# 字母常量\n",
    "print(string.ascii_letters)\n",
    "# 数字\n",
    "print(string.digits)\n",
    "# 十六进制数字\n",
    "print(string.hexdigits)\n",
    "# 八进制数字\n",
    "print(string.octdigits)\n",
    "# 所有标点符号\n",
    "print(string.punctuation)\n",
    "# 空白字符\n",
    "print(string.whitespace)"
   ]
  },
  {
   "cell_type": "code",
   "execution_count": 6,
   "metadata": {},
   "outputs": [
    {
     "name": "stdout",
     "output_type": "stream",
     "text": [
      "i like python\n"
     ]
    }
   ],
   "source": [
    "# 通过string.Template可以为Python定制字符串的替换标准\n",
    "from string import Template\n",
    "s = Template('$who like $what')\n",
    "print(s.substitute(who='i', what='python'))"
   ]
  },
  {
   "cell_type": "code",
   "execution_count": 7,
   "metadata": {},
   "outputs": [
    {
     "name": "stdout",
     "output_type": "stream",
     "text": [
      "i like $what\n"
     ]
    }
   ],
   "source": [
    "# # 缺少key时不会抛错\n",
    "print(s.safe_substitute(who='i'))"
   ]
  },
  {
   "cell_type": "code",
   "execution_count": 8,
   "metadata": {},
   "outputs": [
    {
     "name": "stdout",
     "output_type": "stream",
     "text": [
      "i like python\n"
     ]
    }
   ],
   "source": [
    "print(Template('${who} like python').substitute(who='i'))"
   ]
  },
  {
   "cell_type": "markdown",
   "metadata": {},
   "source": [
    "Template还有更加高级的用法，可以通过继承string.Template, 重写变量delimiter(定界符)和idpattern(替换格式), 定制不同形式的模板"
   ]
  },
  {
   "cell_type": "code",
   "execution_count": 9,
   "metadata": {},
   "outputs": [
    {
     "name": "stdout",
     "output_type": "stream",
     "text": [
      " Delimiter : not replaced Replaced : %with_underscore Ingored: %notunderscored\n",
      " Delimiter : $de Replaced : replaced Ingored: %notunderscored\n"
     ]
    }
   ],
   "source": [
    "template_text = \"\"\" Delimiter : $de Replaced : %with_underscore Ingored: %notunderscored\"\"\"\n",
    "d = {'de': 'not replaced', 'with_underscore': 'replaced', \n",
    "    'notunderscored': 'not replaced'}\n",
    "\n",
    "class MyTemplate(string.Template):\n",
    "    # 重写模板 定界符(delimiter)为\"%\", 替换模式(idpattern)必须包含下划线(_)\n",
    "    delimiter = '%'\n",
    "    idpattern = '[a-z]+_[a-z]+'\n",
    "    \n",
    "# 采用原来的Template渲染\n",
    "print(string.Template(template_text).safe_substitute(d))\n",
    "# 使用重写后的MyTemplate渲染\n",
    "print(MyTemplate(template_text).safe_substitute(d))\n",
    "# 原生的Template只会渲染界定符为$的情况，重写后的MyTemplate会渲染界定符为%且替换格式带有下划线的情况"
   ]
  },
  {
   "cell_type": "code",
   "execution_count": 10,
   "metadata": {},
   "outputs": [
    {
     "name": "stdout",
     "output_type": "stream",
     "text": [
      "0987654321\n"
     ]
    }
   ],
   "source": [
    "# 反转字符串\n",
    "s = '1234567890'\n",
    "print(s[::-1])"
   ]
  },
  {
   "cell_type": "code",
   "execution_count": 15,
   "metadata": {},
   "outputs": [
    {
     "name": "stdout",
     "output_type": "stream",
     "text": [
      "['123', '456', '789', '0']\n"
     ]
    }
   ],
   "source": [
    "import re\n",
    "# 以三个长度分割字符串\n",
    "re.findall(r'.{1,3}', s)\n",
    "print(re.findall(r'.{1,3}', s))"
   ]
  },
  {
   "cell_type": "code",
   "execution_count": null,
   "metadata": {},
   "outputs": [],
   "source": []
  }
 ],
 "metadata": {
  "kernelspec": {
   "display_name": "Python 3",
   "language": "python",
   "name": "python3"
  },
  "language_info": {
   "codemirror_mode": {
    "name": "ipython",
    "version": 3
   },
   "file_extension": ".py",
   "mimetype": "text/x-python",
   "name": "python",
   "nbconvert_exporter": "python",
   "pygments_lexer": "ipython3",
   "version": "3.6.4"
  }
 },
 "nbformat": 4,
 "nbformat_minor": 2
}
