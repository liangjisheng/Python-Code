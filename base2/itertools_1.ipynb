{
 "cells": [
  {
   "cell_type": "markdown",
   "metadata": {},
   "source": [
    "itertools中的函数大多是返回各种迭代器对象，其中很多函数的作用我们平时要写很多代码才能达到，而在运行效率上反而更低"
   ]
  },
  {
   "cell_type": "code",
   "execution_count": 2,
   "metadata": {},
   "outputs": [
    {
     "name": "stdout",
     "output_type": "stream",
     "text": [
      "[0, 1, 3, 6, 10, 15, 21, 28, 36, 45]\n"
     ]
    }
   ],
   "source": [
    "import itertools\n",
    "x = itertools.accumulate(range(10))\n",
    "# x为迭代器对象，先转换为列表对象，再输出\n",
    "print(list(x))"
   ]
  },
  {
   "cell_type": "code",
   "execution_count": 5,
   "metadata": {},
   "outputs": [
    {
     "name": "stdout",
     "output_type": "stream",
     "text": [
      "[0, 1, 2, 0, 1, 2, 3, 3, 2, 1]\n"
     ]
    }
   ],
   "source": [
    "# itertools.chain 连接多个列表或者迭代器\n",
    "x = itertools.chain(range(3), range(4), [3, 2, 1])\n",
    "print(list(x))"
   ]
  },
  {
   "cell_type": "code",
   "execution_count": 6,
   "metadata": {},
   "outputs": [
    {
     "name": "stdout",
     "output_type": "stream",
     "text": [
      "[(0, 1, 2), (0, 1, 3), (0, 2, 3), (1, 2, 3)]\n"
     ]
    }
   ],
   "source": [
    "# itertools.combinations 求列表或生成器中指定数目的元素不重复的所有组合\n",
    "# 从0, 1, 2, 3中取3个不重复的元素\n",
    "x = itertools.combinations(range(4), 3)\n",
    "print(list(x))"
   ]
  },
  {
   "cell_type": "code",
   "execution_count": 7,
   "metadata": {},
   "outputs": [
    {
     "name": "stdout",
     "output_type": "stream",
     "text": [
      "[('A', 'A'), ('A', 'B'), ('A', 'C'), ('B', 'B'), ('B', 'C'), ('C', 'C')]\n"
     ]
    }
   ],
   "source": [
    "# itertools.combinations_with_replacement 允许重复元素的组合\n",
    "x = itertools.combinations_with_replacement('ABC', 2)\n",
    "print(list(x))"
   ]
  },
  {
   "cell_type": "code",
   "execution_count": 8,
   "metadata": {},
   "outputs": [
    {
     "name": "stdout",
     "output_type": "stream",
     "text": [
      "[0, 2, 3]\n"
     ]
    }
   ],
   "source": [
    "# itertools.compress 按照真值表筛选元素\n",
    "x = itertools.compress(range(5), (True, False, True, True, False))\n",
    "print(list(x))"
   ]
  },
  {
   "cell_type": "code",
   "execution_count": 3,
   "metadata": {},
   "outputs": [
    {
     "name": "stdout",
     "output_type": "stream",
     "text": [
      "[20, 19, 18, 17, 16, 15, 14, 13, 12, 11]\n"
     ]
    }
   ],
   "source": [
    "# itertools.count 就是一个计数器,可以指定起始位置和步长\n",
    "x = itertools.count(start=20, step=-1)\n",
    "print(list(itertools.islice(x, 0, 10, 1)))"
   ]
  },
  {
   "cell_type": "code",
   "execution_count": 4,
   "metadata": {},
   "outputs": [
    {
     "name": "stdout",
     "output_type": "stream",
     "text": [
      "['A', 'B', 'C', 'A', 'B', 'C', 'A', 'B', 'C', 'A']\n"
     ]
    }
   ],
   "source": [
    "# itertools.cycle 循环指定的列表和迭代器\n",
    "x = itertools.cycle('ABC')\n",
    "print(list(itertools.islice(x, 0, 10, 1)))"
   ]
  },
  {
   "cell_type": "code",
   "execution_count": 5,
   "metadata": {},
   "outputs": [
    {
     "name": "stdout",
     "output_type": "stream",
     "text": [
      "[5, 6, 7, 8, 9]\n"
     ]
    }
   ],
   "source": [
    "# itertools.dropwhile 按照真值函数丢弃掉列表和迭代器前面的元素\n",
    "x = itertools.dropwhile(lambda e: e < 5, range(10))\n",
    "print(list(x))"
   ]
  },
  {
   "cell_type": "code",
   "execution_count": 6,
   "metadata": {},
   "outputs": [
    {
     "name": "stdout",
     "output_type": "stream",
     "text": [
      "[5, 6, 9]\n"
     ]
    }
   ],
   "source": [
    "# itertools.filterfalse 保留对应真值为False的元素\n",
    "x = itertools.filterfalse(lambda e: e < 5, (1, 5, 3, 6, 9, 4))\n",
    "print(list(x))"
   ]
  },
  {
   "cell_type": "code",
   "execution_count": 7,
   "metadata": {},
   "outputs": [
    {
     "name": "stdout",
     "output_type": "stream",
     "text": [
      "True [0, 1, 2, 3, 4]\n",
      "False [5, 6, 7, 8]\n",
      "True [9]\n"
     ]
    }
   ],
   "source": [
    "# itertools.groupby 按照分组函数的值对元素进行分组\n",
    "x = itertools.groupby(range(10), lambda x: x < 5 or x > 8)\n",
    "for condition, numbers in x:\n",
    "    print(condition, list(numbers))"
   ]
  },
  {
   "cell_type": "code",
   "execution_count": 8,
   "metadata": {},
   "outputs": [
    {
     "name": "stdout",
     "output_type": "stream",
     "text": [
      "[0, 2, 4, 6, 8]\n"
     ]
    }
   ],
   "source": [
    "# itertools.islice 上文使用过的函数，对迭代器进行切片\n",
    "x = itertools.islice(range(10), 0, 9, 2)\n",
    "print(list(x))"
   ]
  },
  {
   "cell_type": "code",
   "execution_count": 9,
   "metadata": {},
   "outputs": [
    {
     "name": "stdout",
     "output_type": "stream",
     "text": [
      "[(0, 1, 2), (0, 1, 3), (0, 2, 1), (0, 2, 3), (0, 3, 1), (0, 3, 2), (1, 0, 2), (1, 0, 3), (1, 2, 0), (1, 2, 3), (1, 3, 0), (1, 3, 2), (2, 0, 1), (2, 0, 3), (2, 1, 0), (2, 1, 3), (2, 3, 0), (2, 3, 1), (3, 0, 1), (3, 0, 2), (3, 1, 0), (3, 1, 2), (3, 2, 0), (3, 2, 1)]\n"
     ]
    }
   ],
   "source": [
    "# itertools.permutations 产生指定数目的元素的所有排列(顺序有关)\n",
    "x = itertools.permutations(range(4), 3)\n",
    "print(list(x))"
   ]
  },
  {
   "cell_type": "code",
   "execution_count": 10,
   "metadata": {},
   "outputs": [
    {
     "name": "stdout",
     "output_type": "stream",
     "text": [
      "[('A', 0), ('A', 1), ('A', 2), ('B', 0), ('B', 1), ('B', 2), ('C', 0), ('C', 1), ('C', 2)]\n"
     ]
    }
   ],
   "source": [
    "# itertools.product 产生多个列表和迭代器的(积)\n",
    "x = itertools.product('ABC', range(3))\n",
    "print(list(x))"
   ]
  },
  {
   "cell_type": "code",
   "execution_count": 11,
   "metadata": {},
   "outputs": [
    {
     "name": "stdout",
     "output_type": "stream",
     "text": [
      "[0, 0, 0, 0, 0]\n"
     ]
    }
   ],
   "source": [
    "# itertools.repeat 简单的生成一个拥有指定数目元素的迭代器\n",
    "x = itertools.repeat(0, 5)\n",
    "print(list(x))"
   ]
  },
  {
   "cell_type": "code",
   "execution_count": 12,
   "metadata": {},
   "outputs": [
    {
     "name": "stdout",
     "output_type": "stream",
     "text": [
      "[True, False, False, False, True, True, False, True, False]\n"
     ]
    }
   ],
   "source": [
    "# itertools.starmap 类似map\n",
    "x = itertools.starmap(str.islower, 'aBCDefGhI')\n",
    "print(list(x))"
   ]
  },
  {
   "cell_type": "code",
   "execution_count": 13,
   "metadata": {},
   "outputs": [
    {
     "name": "stdout",
     "output_type": "stream",
     "text": [
      "[0, 1, 2, 3, 4]\n"
     ]
    }
   ],
   "source": [
    "# itertools.takewhile 与dropwhile相反，保留元素直至真值函数值为假\n",
    "x = itertools.takewhile(lambda e: e < 5, range(10))\n",
    "print(list(x))"
   ]
  },
  {
   "cell_type": "code",
   "execution_count": 14,
   "metadata": {},
   "outputs": [
    {
     "name": "stdout",
     "output_type": "stream",
     "text": [
      "[0, 1, 2, 3, 4, 5, 6, 7, 8, 9]\n",
      "[0, 1, 2, 3, 4, 5, 6, 7, 8, 9]\n"
     ]
    }
   ],
   "source": [
    "# itertools.tee 这个函数我也不是很懂，似乎是生成指定数目的迭代器\n",
    "x = itertools.tee(range(10), 2)\n",
    "for letters in x:\n",
    "    print(list(letters))"
   ]
  },
  {
   "cell_type": "code",
   "execution_count": 16,
   "metadata": {},
   "outputs": [
    {
     "name": "stdout",
     "output_type": "stream",
     "text": [
      "[(0, 0), (1, 1), (2, 2), (None, 3), (None, 4)]\n",
      "[(0, 0), (1, 1), (2, 2)]\n"
     ]
    }
   ],
   "source": [
    "# itertools.zip_longest 类似于zip，不过以较长的列表和迭代器的长度为准\n",
    "x = itertools.zip_longest(range(3), range(5))\n",
    "y = zip(range(3), range(5))\n",
    "print(list(x))\n",
    "print(list(y))"
   ]
  },
  {
   "cell_type": "code",
   "execution_count": null,
   "metadata": {},
   "outputs": [],
   "source": []
  }
 ],
 "metadata": {
  "kernelspec": {
   "display_name": "Python 3",
   "language": "python",
   "name": "python3"
  },
  "language_info": {
   "codemirror_mode": {
    "name": "ipython",
    "version": 3
   },
   "file_extension": ".py",
   "mimetype": "text/x-python",
   "name": "python",
   "nbconvert_exporter": "python",
   "pygments_lexer": "ipython3",
   "version": "3.6.4"
  }
 },
 "nbformat": 4,
 "nbformat_minor": 2
}
