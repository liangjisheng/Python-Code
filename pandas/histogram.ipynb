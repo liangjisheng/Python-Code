{
 "cells": [
  {
   "cell_type": "markdown",
   "metadata": {},
   "source": [
    "使用Python绘制直方图的所有方法，大致可分为三大类（详细划分是五类，参照文末总结）：  \n",
    "纯Python实现直方图，不使用任何第三方库  \n",
    "使用Numpy来创建直方图总结数据  \n",
    "使用matplotlib，pandas，seaborn绘制直方图  \n",
    "\n",
    "# 纯Python实现histogram\n",
    "当准备用纯Python来绘制直方图的时候，最简单的想法就是将每个值出现的次数以报告形式展示。  \n",
    "这种情况下，使用 字典 来完成这个任务是非常合适的，我们看看下面代码是如何实现的。"
   ]
  },
  {
   "cell_type": "code",
   "execution_count": 1,
   "metadata": {},
   "outputs": [
    {
     "name": "stdout",
     "output_type": "stream",
     "text": [
      "{0: 1, 1: 3, 2: 1, 3: 1, 7: 2, 23: 1}\n"
     ]
    }
   ],
   "source": [
    "a = (0, 1, 1, 1, 2, 3, 7, 7, 23)\n",
    "\n",
    "def count_elements(seq)->dict:\n",
    "    \"\"\"Tally elements from 'seq'.\"\"\"\n",
    "    hist = {}\n",
    "    for i in seq:\n",
    "        hist[i] = hist.get(i, 0) + 1\n",
    "    return hist\n",
    "\n",
    "counted = count_elements(a)\n",
    "print(counted)"
   ]
  },
  {
   "cell_type": "markdown",
   "metadata": {},
   "source": [
    "实际上，这个功能可以用一个Python的标准库 collection.Counter 类来完成，  \n",
    "它兼容Pyhont 字典并覆盖了字典的 .update() 方法"
   ]
  },
  {
   "cell_type": "code",
   "execution_count": 2,
   "metadata": {},
   "outputs": [
    {
     "name": "stdout",
     "output_type": "stream",
     "text": [
      "Counter({1: 3, 7: 2, 0: 1, 2: 1, 3: 1, 23: 1})\n"
     ]
    }
   ],
   "source": [
    "from collections import Counter\n",
    "recounted = Counter(a)\n",
    "print(recounted)"
   ]
  },
  {
   "cell_type": "code",
   "execution_count": 4,
   "metadata": {},
   "outputs": [
    {
     "name": "stdout",
     "output_type": "stream",
     "text": [
      "dict_items([(0, 1), (1, 3), (2, 1), (3, 1), (7, 2), (23, 1)])\n",
      "dict_items([(0, 1), (1, 3), (2, 1), (3, 1), (7, 2), (23, 1)])\n"
     ]
    }
   ],
   "source": [
    "print(recounted.items())\n",
    "print(counted.items())"
   ]
  },
  {
   "cell_type": "markdown",
   "metadata": {},
   "source": [
    "我们利用上面的函数重新再造一个轮子 ASCII_histogram，并最终通过Python的输出格式format来实现直方图的展示，代码如下："
   ]
  },
  {
   "cell_type": "code",
   "execution_count": 5,
   "metadata": {},
   "outputs": [],
   "source": [
    "def ascii_histogram(seq) -> None:\n",
    "    \"\"\"A horizontal frequency-table/histogram plot.\"\"\"\n",
    "    counted = count_elements(seq)\n",
    "    for k in sorted(counted):\n",
    "        print('{0:5d}{1}'.format(k, '+' * counted[k]))"
   ]
  },
  {
   "cell_type": "markdown",
   "metadata": {},
   "source": [
    "这个函数按照数值大小顺序进行绘图，数值出现次数用 (+) 符号表示。在字典上调用 sorted() 将会返回一个按键顺序排列的列表，然后就可以获取相应的次数 counted[k] 。"
   ]
  },
  {
   "cell_type": "code",
   "execution_count": 6,
   "metadata": {},
   "outputs": [
    {
     "name": "stdout",
     "output_type": "stream",
     "text": [
      "    1+++++++\n",
      "    3++++++++++++++\n",
      "    4++++++\n",
      "    6+++++++++\n",
      "    8++++++\n",
      "    9++++++++++++\n",
      "   10++++++++++++\n"
     ]
    }
   ],
   "source": [
    "import random\n",
    "random.seed(1)\n",
    "\n",
    "vals = [1, 3, 4, 6, 8, 9, 10]\n",
    "# vals里面的数字将会出现5到15次\n",
    "freq = (random.randint(5, 15) for _ in vals)\n",
    "\n",
    "data = []\n",
    "for f, v in zip(freq, vals):\n",
    "    data.extend([v] * f)\n",
    "    \n",
    "ascii_histogram(data)"
   ]
  },
  {
   "cell_type": "markdown",
   "metadata": {},
   "source": [
    "这个代码中，vals内的数值是不重复的，并且每个数值出现的频数是由我们自己定义的，在5和15之间随机选择。  \n",
    "然后运用我们上面封装的函数，就得到了纯Python版本的直方图展示。  \n",
    "总结：纯python实现频数表（非标准直方图），可直接使用collection.Counter方法实现。"
   ]
  },
  {
   "cell_type": "markdown",
   "metadata": {},
   "source": [
    "# 使用Numpy实现histogram\n",
    "以上是使用纯Python来完成的简单直方图，但是从数学意义上来看，直方图是分箱到频数的一种映射，  \n",
    "它可以用来估计变量的概率密度函数的。而上面纯Python实现版本只是单纯的频数统计，不是真正意义上的直方图。\n",
    "\n",
    "因此，我们从上面实现的简单直方图继续往下进行升级。一个真正的直方图首先应该是将变量分区域（箱）的，  \n",
    "也就是分成不同的区间范围，然后对每个区间内的观测值数量进行计数。恰巧，Numpy的直方图方法就可以做到这点，  \n",
    "不仅仅如此，它也是后面将要提到的matplotlib和pandas使用的基础。\n",
    "\n",
    "举个例子，来看一组从拉普拉斯分布上提取出来的浮点型样本数据。这个分布比标准正态分布拥有更宽的尾部，并有两个描述参数（location和scale）："
   ]
  },
  {
   "cell_type": "code",
   "execution_count": 7,
   "metadata": {},
   "outputs": [
    {
     "name": "stdout",
     "output_type": "stream",
     "text": [
      "[18.406 18.087 16.004 16.221  7.358]\n"
     ]
    }
   ],
   "source": [
    "import numpy as np\n",
    "np.random.seed(444)\n",
    "np.set_printoptions(precision=3)\n",
    "\n",
    "d = np.random.laplace(loc=15, scale=3, size=500)\n",
    "print(d[:5])"
   ]
  },
  {
   "cell_type": "markdown",
   "metadata": {},
   "source": [
    "由于这是一个连续型的分布，对于每个单独的浮点值（即所有的无数个小数位置）并不能做很好的标签  \n",
    "（因为点实在太多了）。但是，你可以将数据做 分箱 处理，然后统计每个箱内观察值的数量，这就是真正的直方图所要做的工作。\n",
    "\n",
    "下面我们看看是如何用Numpy来实现直方图频数统计的。"
   ]
  },
  {
   "cell_type": "code",
   "execution_count": 8,
   "metadata": {},
   "outputs": [
    {
     "name": "stdout",
     "output_type": "stream",
     "text": [
      "[ 13  23  91 261  80  21   7   2   1   1]\n",
      "[ 2.11   5.874  9.638 13.402 17.166 20.93  24.694 28.458 32.222 35.986\n",
      " 39.749]\n"
     ]
    }
   ],
   "source": [
    "hist, bin_edges = np.histogram(d)\n",
    "# 频数\n",
    "print(hist)\n",
    "# 边界\n",
    "print(bin_edges)"
   ]
  },
  {
   "cell_type": "markdown",
   "metadata": {},
   "source": [
    "这个结果可能不是很直观。来说一下，np.histogram() 默认地使用10个相同大小的区间（箱），然后返回一个元组（频数，分箱的边界），如上所示。要注意的是：这个边界的数量是要比分箱数多一个的，可以简单通过下面代码证实。"
   ]
  },
  {
   "cell_type": "code",
   "execution_count": 9,
   "metadata": {},
   "outputs": [
    {
     "name": "stdout",
     "output_type": "stream",
     "text": [
      "10 11\n"
     ]
    }
   ],
   "source": [
    "print(hist.size, bin_edges.size)"
   ]
  },
  {
   "cell_type": "markdown",
   "metadata": {},
   "source": [
    "那问题来了，Numpy到底是如何进行分箱的呢？只是通过简单的 np.histogram() 就可以完成了，但具体是如何实现的我们仍然全然不知。下面让我们来将 np.histogram() 的内部进行解剖，看看到底是如何实现的（以最前面提到的a列表为例）。"
   ]
  },
  {
   "cell_type": "code",
   "execution_count": 13,
   "metadata": {},
   "outputs": [
    {
     "name": "stdout",
     "output_type": "stream",
     "text": [
      "[ 0.   2.3  4.6  6.9  9.2 11.5 13.8 16.1 18.4 20.7 23. ]\n"
     ]
    }
   ],
   "source": [
    "first_edge, last_edge = min(a), max(a)\n",
    "n_equal_bins = 10  # numpy默认为10个分箱\n",
    "bin_edges = np.linspace(start=first_edge, stop=last_edge,\n",
    "                       num=n_equal_bins + 1, endpoint=True)\n",
    "print(bin_edges)"
   ]
  },
  {
   "cell_type": "markdown",
   "metadata": {},
   "source": [
    "解释一下：首先获取a列表的最小值和最大值，然后设置默认的分箱数量，最后使用Numpy的 linspace 方法进行数据段分割。分箱区间的结果也正好与实际吻合，0到23均等分为10份，23/10，那么每份宽度为2.3。\n",
    "\n",
    "除了np.histogram之外，还存在其它两种可以达到同样功能的方法：np.bincount() 和 np.searchsorted()，下面看看代码以及比较结果。"
   ]
  },
  {
   "cell_type": "code",
   "execution_count": 15,
   "metadata": {},
   "outputs": [
    {
     "name": "stdout",
     "output_type": "stream",
     "text": [
      "<class 'numpy.ndarray'>\n",
      "24\n",
      "[1 3 1 1 0 0 0 2 0 0 0 0 0 0 0 0 0 0 0 0 0 0 0 1]\n",
      "[1 3 1 1 0 0 0 2 0 0 0 0 0 0 0 0 0 0 0 0 0 0 0 1]\n",
      "True\n"
     ]
    }
   ],
   "source": [
    "bcounts = np.bincount(a)\n",
    "print(type(bcounts))\n",
    "print(len(bcounts))\n",
    "print(bcounts)\n",
    "hist, _ = np.histogram(a, range=(0, max(a)), bins=max(a) + 1)\n",
    "print(hist)\n",
    "print(np.array_equal(hist, bcounts))"
   ]
  },
  {
   "cell_type": "code",
   "execution_count": 16,
   "metadata": {},
   "outputs": [
    {
     "name": "stdout",
     "output_type": "stream",
     "text": [
      "{0: 1, 1: 3, 2: 1, 3: 1, 7: 2, 23: 1}\n"
     ]
    }
   ],
   "source": [
    "# Reproducing collection.Counter\n",
    "print(dict(zip(np.unique(a), bcounts[bcounts.nonzero()])))"
   ]
  },
  {
   "cell_type": "markdown",
   "metadata": {},
   "source": [
    "总结：通过Numpy实现直方图，可直接使用np.histogram()或者np.bincount()。"
   ]
  },
  {
   "cell_type": "markdown",
   "metadata": {},
   "source": [
    "# 使用Matplotlib和Pandas可视化Histogram"
   ]
  },
  {
   "cell_type": "markdown",
   "metadata": {},
   "source": [
    "从上面的学习，我们看到了如何使用Python的基础工具搭建一个直方图，下面我们来看看如何使用更为强大的Python库包来完成直方图。Matplotlib基于Numpy的histogram进行了多样化的封装并提供了更加完善的可视化功能。"
   ]
  },
  {
   "cell_type": "code",
   "execution_count": 19,
   "metadata": {},
   "outputs": [
    {
     "name": "stdout",
     "output_type": "stream",
     "text": [
      "[ 2.  2.  3.  5.  1.  3.  2.  9. 10. 17. 15. 26. 26. 51. 70. 69. 54. 31.\n",
      " 28. 23.  7. 14. 11.  6.  4.  0.  1.  3.  1.  2.  1.  1.  0.  0.  0.  0.\n",
      "  0.  1.  0.  0.  0.  0.  0.  1.]\n",
      "[ 2.11   2.966  3.821  4.677  5.532  6.387  7.243  8.098  8.954  9.809\n",
      " 10.665 11.52  12.376 13.231 14.086 14.942 15.797 16.653 17.508 18.364\n",
      " 19.219 20.074 20.93  21.785 22.641 23.496 24.352 25.207 26.063 26.918\n",
      " 27.773 28.629 29.484 30.34  31.195 32.051 32.906 33.761 34.617 35.472\n",
      " 36.328 37.183 38.039 38.894 39.749]\n",
      "<a list of 44 Patch objects>\n"
     ]
    },
    {
     "data": {
      "image/png": "[encoded data removed]",
      "text/plain": [
       "<Figure size 432x288 with 1 Axes>"
      ]
     },
     "metadata": {},
     "output_type": "display_data"
    }
   ],
   "source": [
    "import matplotlib.pyplot as plt\n",
    "\n",
    "#  matplotlib.axes.Axes.hist() 方法的接口\n",
    "n, bins, patches = plt.hist(x=d, bins='auto', color='#0504aa', alpha=0.7, rwidth=0.85)\n",
    "print(n)\n",
    "print(bins)\n",
    "print(patches)\n",
    "plt.grid(axis='y', alpha=0.75)\n",
    "plt.xlabel('Value')\n",
    "plt.ylabel('Frequency')\n",
    "plt.title('My Very Own Histogram')\n",
    "plt.text(23, 45, r'$\\mu=15, b=3$')\n",
    "maxfreq = max(n)\n",
    "# 设置y轴的上限\n",
    "plt.ylim(ymax=np.ceil(maxfreq / 10) * 10 if maxfreq % 10 else maxfreq + 10)\n",
    "\n",
    "plt.show()"
   ]
  },
  {
   "cell_type": "markdown",
   "metadata": {},
   "source": [
    "之前我们的做法是，在x轴上定义了分箱边界，y轴是相对应的频数，不难发现我们都是手动定义了分箱的数目。但是在以上的高级方法中，我们可以通过设置 bins='auto' 自动在写好的两个算法中择优选择并最终算出最适合的分箱数。这里，算法的目的就是选择出一个合适的区间（箱）宽度，并生成一个最能代表数据的直方图来。"
   ]
  },
  {
   "cell_type": "markdown",
   "metadata": {},
   "source": [
    "如果使用Python的科学计算工具实现，那么可以使用Pandas的 Series.histogram() ，并通过 matplotlib.pyplot.hist() 来绘制输入Series的直方图，如下代码所示。"
   ]
  },
  {
   "cell_type": "code",
   "execution_count": 22,
   "metadata": {},
   "outputs": [
    {
     "data": {
      "image/png": "[encoded data removed]",
      "text/plain": [
       "<Figure size 432x288 with 1 Axes>"
      ]
     },
     "metadata": {},
     "output_type": "display_data"
    }
   ],
   "source": [
    "import pandas as pd\n",
    "\n",
    "size, scale = 1000, 10\n",
    "commutes = pd.Series(np.random.gamma(scale, size=size) ** 1.5)\n",
    "commutes.plot.hist(grid=True, bins=20, rwidth=0.9, color='#607c8e')\n",
    "plt.title('Commute Times for 1,000 Commuters')\n",
    "plt.xlabel('Counts')\n",
    "plt.ylabel('Commute Time')\n",
    "plt.grid(axis='y', alpha=0.75)\n",
    "\n",
    "plt.show()"
   ]
  },
  {
   "cell_type": "markdown",
   "metadata": {},
   "source": [
    "pandas.DataFrame.histogram() 的用法与Series是一样的，但生成的是对DataFrame数据中的每一列的直方图。  \n",
    "总结：通过pandas实现直方图，可使用Seris.plot.hist()，DataFrame.plot.hist()，matplotlib实现直方图可以用matplotlib.pyplot.hist()。"
   ]
  },
  {
   "cell_type": "markdown",
   "metadata": {},
   "source": [
    "# 绘制核密度估计（KDE）\n",
    "KDE（Kernel density estimation）是核密度估计的意思，它用来估计随机变量的概率密度函数，可以将数据变得更平缓。\n",
    "\n",
    "使用Pandas库的话，你可以使用 plot.kde() 创建一个核密度的绘图，plot.kde() 对于 Series和DataFrame数据结构都适用。但是首先，我们先生成两个不同的数据样本作为比较（两个正太分布的样本）：\n"
   ]
  },
  {
   "cell_type": "code",
   "execution_count": 23,
   "metadata": {},
   "outputs": [
    {
     "data": {
      "text/html": [
       "<div>\n",
       "<style scoped>\n",
       "    .dataframe tbody tr th:only-of-type {\n",
       "        vertical-align: middle;\n",
       "    }\n",
       "\n",
       "    .dataframe tbody tr th {\n",
       "        vertical-align: top;\n",
       "    }\n",
       "\n",
       "    .dataframe thead th {\n",
       "        text-align: right;\n",
       "    }\n",
       "</style>\n",
       "<table border=\"1\" class=\"dataframe\">\n",
       "  <thead>\n",
       "    <tr style=\"text-align: right;\">\n",
       "      <th></th>\n",
       "      <th>a</th>\n",
       "      <th>b</th>\n",
       "    </tr>\n",
       "  </thead>\n",
       "  <tbody>\n",
       "    <tr>\n",
       "      <th>min</th>\n",
       "      <td>-3.78</td>\n",
       "      <td>12.55</td>\n",
       "    </tr>\n",
       "    <tr>\n",
       "      <th>max</th>\n",
       "      <td>23.28</td>\n",
       "      <td>26.54</td>\n",
       "    </tr>\n",
       "    <tr>\n",
       "      <th>mean</th>\n",
       "      <td>9.99</td>\n",
       "      <td>19.99</td>\n",
       "    </tr>\n",
       "    <tr>\n",
       "      <th>std</th>\n",
       "      <td>4.03</td>\n",
       "      <td>2.01</td>\n",
       "    </tr>\n",
       "  </tbody>\n",
       "</table>\n",
       "</div>"
      ],
      "text/plain": [
       "          a      b\n",
       "min   -3.78  12.55\n",
       "max   23.28  26.54\n",
       "mean   9.99  19.99\n",
       "std    4.03   2.01"
      ]
     },
     "execution_count": 23,
     "metadata": {},
     "output_type": "execute_result"
    }
   ],
   "source": [
    "# 两个正态分布的样本\n",
    "means = 10, 20\n",
    "stdevs = 4, 2\n",
    "dist = pd.DataFrame(np.random.normal(loc=means, scale=stdevs, size=(1000, 2)),\n",
    "                   columns=['a', 'b'])\n",
    "dist.agg(['min', 'max', 'mean', 'std']).round(decimals=2)"
   ]
  },
  {
   "cell_type": "markdown",
   "metadata": {},
   "source": [
    "以上看到，我们生成了两组正态分布样本，并且通过一些描述性统计参数对两组数据进行了简单的对比。现在，我们可以在同一个Matplotlib轴上绘制每个直方图以及对应的kde，使用pandas的plot.kde()的好处就是：它会自动的将所有列的直方图和kde都显示出来，用起来非常方便，具体代码如下："
   ]
  },
  {
   "cell_type": "code",
   "execution_count": 26,
   "metadata": {},
   "outputs": [
    {
     "data": {
      "image/png": "[encoded data removed]",
      "text/plain": [
       "<Figure size 432x288 with 1 Axes>"
      ]
     },
     "metadata": {},
     "output_type": "display_data"
    }
   ],
   "source": [
    "fig, ax = plt.subplots()\n",
    "dist.plot.kde(ax=ax, legend=False, title='Histogram: A vs B')\n",
    "dist.plot.hist(density=True, ax=ax)\n",
    "ax.set_ylabel('Probability')\n",
    "ax.grid(axis='y')\n",
    "ax.set_facecolor('#d8dcd6')\n",
    "\n",
    "plt.show()"
   ]
  },
  {
   "cell_type": "markdown",
   "metadata": {},
   "source": [
    "总结：通过pandas实现kde图，可使用Seris.plot.kde()，DataFrame.plot.kde()。"
   ]
  },
  {
   "cell_type": "markdown",
   "metadata": {},
   "source": [
    "# 使用Seaborn的完美替代\n",
    "一个更高级可视化工具就是Seaborn，它是在matplotlib的基础上进一步封装的强大工具。对于直方图而言，Seaborn有 distplot() 方法，可以将单变量分布的直方图和kde同时绘制出来，而且使用及其方便，下面是实现代码（以上面生成的d为例）："
   ]
  },
  {
   "cell_type": "code",
   "execution_count": 27,
   "metadata": {},
   "outputs": [
    {
     "name": "stderr",
     "output_type": "stream",
     "text": [
      "D:\\python\\Anaconda3\\install\\lib\\site-packages\\matplotlib\\axes\\_axes.py:6462: UserWarning: The 'normed' kwarg is deprecated, and has been replaced by the 'density' kwarg.\n",
      "  warnings.warn(\"The 'normed' kwarg is deprecated, and has been \"\n"
     ]
    },
    {
     "data": {
      "text/plain": [
       "<matplotlib.axes._subplots.AxesSubplot at 0x207dd1cce48>"
      ]
     },
     "execution_count": 27,
     "metadata": {},
     "output_type": "execute_result"
    },
    {
     "data": {
      "image/png": "[encoded data removed]",
      "text/plain": [
       "<Figure size 432x288 with 1 Axes>"
      ]
     },
     "metadata": {},
     "output_type": "display_data"
    }
   ],
   "source": [
    "import seaborn as sns\n",
    "\n",
    "sns.set_style('darkgrid')\n",
    "sns.distplot(d)"
   ]
  },
  {
   "cell_type": "markdown",
   "metadata": {},
   "source": [
    "distplot方法默认的会绘制kde，并且该方法提供了 fit 参数，可以根据数据的实际情况自行选择一个特殊的分布来对应。"
   ]
  },
  {
   "cell_type": "code",
   "execution_count": 35,
   "metadata": {},
   "outputs": [
    {
     "name": "stderr",
     "output_type": "stream",
     "text": [
      "D:\\python\\Anaconda3\\install\\lib\\site-packages\\matplotlib\\axes\\_axes.py:6462: UserWarning: The 'normed' kwarg is deprecated, and has been replaced by the 'density' kwarg.\n",
      "  warnings.warn(\"The 'normed' kwarg is deprecated, and has been \"\n"
     ]
    },
    {
     "data": {
      "text/plain": [
       "<matplotlib.axes._subplots.AxesSubplot at 0x207dd59b198>"
      ]
     },
     "execution_count": 35,
     "metadata": {},
     "output_type": "execute_result"
    },
    {
     "data": {
      "image/png": "[encoded data removed]",
      "text/plain": [
       "<Figure size 432x288 with 1 Axes>"
      ]
     },
     "metadata": {},
     "output_type": "display_data"
    }
   ],
   "source": [
    "import scipy.stats\n",
    "sns.distplot(d, fit=scipy.stats.laplace, kde=False)"
   ]
  },
  {
   "cell_type": "markdown",
   "metadata": {},
   "source": [
    "总结：通过seaborn实现直方图，可使用seaborn.distplot()，seaborn也有单独的kde绘图seaborn.kde()。"
   ]
  },
  {
   "cell_type": "markdown",
   "metadata": {},
   "source": [
    "# 在Pandas中的其它工具\n",
    "除了绘图工具外，pandas也提供了一个方便的.value_counts() 方法，用来计算一个非空值的直方图，并将之转变成一个pandas的series结构，示例如下："
   ]
  },
  {
   "cell_type": "code",
   "execution_count": 47,
   "metadata": {},
   "outputs": [
    {
     "name": "stdout",
     "output_type": "stream",
     "text": [
      "9    1809\n",
      "8    1676\n",
      "7    1456\n",
      "6    1302\n",
      "5    1098\n",
      "4     898\n",
      "3     714\n",
      "2     535\n",
      "1     336\n",
      "0     176\n",
      "dtype: int64\n",
      "\n",
      "9    0.1809\n",
      "8    0.1676\n",
      "7    0.1456\n",
      "6    0.1302\n",
      "5    0.1098\n",
      "dtype: float64\n"
     ]
    }
   ],
   "source": [
    "data = np.random.choice(np.arange(10), size=10000, p=np.linspace(1, 11, 10) / 60)\n",
    "s = pd.Series(data)\n",
    "print(s.value_counts())\n",
    "print()\n",
    "print(s.value_counts(normalize=True).head())"
   ]
  },
  {
   "cell_type": "markdown",
   "metadata": {},
   "source": [
    "此外，pandas.cut() 也同样是一个方便的方法，用来将数据进行强制的分箱。比如说，我们有一些人的年龄数据，并想把这些数据按年龄段进行分类，示例如下："
   ]
  },
  {
   "cell_type": "code",
   "execution_count": 50,
   "metadata": {},
   "outputs": [
    {
     "name": "stdout",
     "output_type": "stream",
     "text": [
      "child           6\n",
      "adult           5\n",
      "teen            3\n",
      "military_age    2\n",
      "preteen         1\n",
      "dtype: int64\n",
      "\n",
      "    age         group\n",
      "0     1         child\n",
      "1     1         child\n",
      "2     3         child\n",
      "3     5         child\n",
      "4     8         child\n",
      "5    10         child\n",
      "6    12       preteen\n",
      "7    15          teen\n",
      "8    18          teen\n",
      "9    18          teen\n",
      "10   19  military_age\n",
      "11   20  military_age\n",
      "12   25         adult\n",
      "13   30         adult\n",
      "14   40         adult\n",
      "15   51         adult\n",
      "16   52         adult\n"
     ]
    }
   ],
   "source": [
    "ages = pd.Series([1, 1, 3, 5, 8, 10, 12, 15, 18, 18, 19, 20, 25, 30, 40, 51, 52])\n",
    "bins = (0, 10, 13, 18, 21, np.inf)  # 边界\n",
    "labels = ('child', 'preteen', 'teen', 'military_age', 'adult')\n",
    "groups = pd.cut(ages, bins=bins, labels=labels)\n",
    "\n",
    "print(groups.value_counts())\n",
    "print()\n",
    "print(pd.concat((ages, groups), axis=1).rename(columns={0: 'age', 1: 'group'}))"
   ]
  },
  {
   "cell_type": "markdown",
   "metadata": {},
   "source": [
    "总结：其它实现直方图的方法，可使用.value_counts()和pandas.cut()。"
   ]
  }
 ],
 "metadata": {
  "kernelspec": {
   "display_name": "Python 3",
   "language": "python",
   "name": "python3"
  },
  "language_info": {
   "codemirror_mode": {
    "name": "ipython",
    "version": 3
   },
   "file_extension": ".py",
   "mimetype": "text/x-python",
   "name": "python",
   "nbconvert_exporter": "python",
   "pygments_lexer": "ipython3",
   "version": "3.6.4"
  }
 },
 "nbformat": 4,
 "nbformat_minor": 2
}
